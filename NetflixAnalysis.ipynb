{
 "cells": [
  {
   "cell_type": "code",
   "execution_count": 2,
   "metadata": {},
   "outputs": [],
   "source": [
    "import pandas as pd\n",
    "import numpy as np\n"
   ]
  },
  {
   "cell_type": "code",
   "execution_count": 3,
   "metadata": {},
   "outputs": [
    {
     "data": {
      "text/html": [
       "<div>\n",
       "<style scoped>\n",
       "    .dataframe tbody tr th:only-of-type {\n",
       "        vertical-align: middle;\n",
       "    }\n",
       "\n",
       "    .dataframe tbody tr th {\n",
       "        vertical-align: top;\n",
       "    }\n",
       "\n",
       "    .dataframe thead th {\n",
       "        text-align: right;\n",
       "    }\n",
       "</style>\n",
       "<table border=\"1\" class=\"dataframe\">\n",
       "  <thead>\n",
       "    <tr style=\"text-align: right;\">\n",
       "      <th></th>\n",
       "      <th>show_id</th>\n",
       "      <th>type</th>\n",
       "      <th>title</th>\n",
       "      <th>director</th>\n",
       "      <th>cast</th>\n",
       "      <th>country</th>\n",
       "      <th>date_added</th>\n",
       "      <th>release_year</th>\n",
       "      <th>rating</th>\n",
       "      <th>duration</th>\n",
       "      <th>listed_in</th>\n",
       "      <th>description</th>\n",
       "    </tr>\n",
       "  </thead>\n",
       "  <tbody>\n",
       "    <tr>\n",
       "      <th>0</th>\n",
       "      <td>s1</td>\n",
       "      <td>Movie</td>\n",
       "      <td>Dick Johnson Is Dead</td>\n",
       "      <td>Kirsten Johnson</td>\n",
       "      <td>NaN</td>\n",
       "      <td>United States</td>\n",
       "      <td>September 25, 2021</td>\n",
       "      <td>2020</td>\n",
       "      <td>PG-13</td>\n",
       "      <td>90 min</td>\n",
       "      <td>Documentaries</td>\n",
       "      <td>As her father nears the end of his life, filmm...</td>\n",
       "    </tr>\n",
       "    <tr>\n",
       "      <th>1</th>\n",
       "      <td>s2</td>\n",
       "      <td>TV Show</td>\n",
       "      <td>Blood &amp; Water</td>\n",
       "      <td>NaN</td>\n",
       "      <td>Ama Qamata, Khosi Ngema, Gail Mabalane, Thaban...</td>\n",
       "      <td>South Africa</td>\n",
       "      <td>September 24, 2021</td>\n",
       "      <td>2021</td>\n",
       "      <td>TV-MA</td>\n",
       "      <td>2 Seasons</td>\n",
       "      <td>International TV Shows, TV Dramas, TV Mysteries</td>\n",
       "      <td>After crossing paths at a party, a Cape Town t...</td>\n",
       "    </tr>\n",
       "    <tr>\n",
       "      <th>2</th>\n",
       "      <td>s3</td>\n",
       "      <td>TV Show</td>\n",
       "      <td>Ganglands</td>\n",
       "      <td>Julien Leclercq</td>\n",
       "      <td>Sami Bouajila, Tracy Gotoas, Samuel Jouy, Nabi...</td>\n",
       "      <td>NaN</td>\n",
       "      <td>September 24, 2021</td>\n",
       "      <td>2021</td>\n",
       "      <td>TV-MA</td>\n",
       "      <td>1 Season</td>\n",
       "      <td>Crime TV Shows, International TV Shows, TV Act...</td>\n",
       "      <td>To protect his family from a powerful drug lor...</td>\n",
       "    </tr>\n",
       "    <tr>\n",
       "      <th>3</th>\n",
       "      <td>s4</td>\n",
       "      <td>TV Show</td>\n",
       "      <td>Jailbirds New Orleans</td>\n",
       "      <td>NaN</td>\n",
       "      <td>NaN</td>\n",
       "      <td>NaN</td>\n",
       "      <td>September 24, 2021</td>\n",
       "      <td>2021</td>\n",
       "      <td>TV-MA</td>\n",
       "      <td>1 Season</td>\n",
       "      <td>Docuseries, Reality TV</td>\n",
       "      <td>Feuds, flirtations and toilet talk go down amo...</td>\n",
       "    </tr>\n",
       "    <tr>\n",
       "      <th>4</th>\n",
       "      <td>s5</td>\n",
       "      <td>TV Show</td>\n",
       "      <td>Kota Factory</td>\n",
       "      <td>NaN</td>\n",
       "      <td>Mayur More, Jitendra Kumar, Ranjan Raj, Alam K...</td>\n",
       "      <td>India</td>\n",
       "      <td>September 24, 2021</td>\n",
       "      <td>2021</td>\n",
       "      <td>TV-MA</td>\n",
       "      <td>2 Seasons</td>\n",
       "      <td>International TV Shows, Romantic TV Shows, TV ...</td>\n",
       "      <td>In a city of coaching centers known to train I...</td>\n",
       "    </tr>\n",
       "    <tr>\n",
       "      <th>...</th>\n",
       "      <td>...</td>\n",
       "      <td>...</td>\n",
       "      <td>...</td>\n",
       "      <td>...</td>\n",
       "      <td>...</td>\n",
       "      <td>...</td>\n",
       "      <td>...</td>\n",
       "      <td>...</td>\n",
       "      <td>...</td>\n",
       "      <td>...</td>\n",
       "      <td>...</td>\n",
       "      <td>...</td>\n",
       "    </tr>\n",
       "    <tr>\n",
       "      <th>8802</th>\n",
       "      <td>s8803</td>\n",
       "      <td>Movie</td>\n",
       "      <td>Zodiac</td>\n",
       "      <td>David Fincher</td>\n",
       "      <td>Mark Ruffalo, Jake Gyllenhaal, Robert Downey J...</td>\n",
       "      <td>United States</td>\n",
       "      <td>November 20, 2019</td>\n",
       "      <td>2007</td>\n",
       "      <td>R</td>\n",
       "      <td>158 min</td>\n",
       "      <td>Cult Movies, Dramas, Thrillers</td>\n",
       "      <td>A political cartoonist, a crime reporter and a...</td>\n",
       "    </tr>\n",
       "    <tr>\n",
       "      <th>8803</th>\n",
       "      <td>s8804</td>\n",
       "      <td>TV Show</td>\n",
       "      <td>Zombie Dumb</td>\n",
       "      <td>NaN</td>\n",
       "      <td>NaN</td>\n",
       "      <td>NaN</td>\n",
       "      <td>July 1, 2019</td>\n",
       "      <td>2018</td>\n",
       "      <td>TV-Y7</td>\n",
       "      <td>2 Seasons</td>\n",
       "      <td>Kids' TV, Korean TV Shows, TV Comedies</td>\n",
       "      <td>While living alone in a spooky town, a young g...</td>\n",
       "    </tr>\n",
       "    <tr>\n",
       "      <th>8804</th>\n",
       "      <td>s8805</td>\n",
       "      <td>Movie</td>\n",
       "      <td>Zombieland</td>\n",
       "      <td>Ruben Fleischer</td>\n",
       "      <td>Jesse Eisenberg, Woody Harrelson, Emma Stone, ...</td>\n",
       "      <td>United States</td>\n",
       "      <td>November 1, 2019</td>\n",
       "      <td>2009</td>\n",
       "      <td>R</td>\n",
       "      <td>88 min</td>\n",
       "      <td>Comedies, Horror Movies</td>\n",
       "      <td>Looking to survive in a world taken over by zo...</td>\n",
       "    </tr>\n",
       "    <tr>\n",
       "      <th>8805</th>\n",
       "      <td>s8806</td>\n",
       "      <td>Movie</td>\n",
       "      <td>Zoom</td>\n",
       "      <td>Peter Hewitt</td>\n",
       "      <td>Tim Allen, Courteney Cox, Chevy Chase, Kate Ma...</td>\n",
       "      <td>United States</td>\n",
       "      <td>January 11, 2020</td>\n",
       "      <td>2006</td>\n",
       "      <td>PG</td>\n",
       "      <td>88 min</td>\n",
       "      <td>Children &amp; Family Movies, Comedies</td>\n",
       "      <td>Dragged from civilian life, a former superhero...</td>\n",
       "    </tr>\n",
       "    <tr>\n",
       "      <th>8806</th>\n",
       "      <td>s8807</td>\n",
       "      <td>Movie</td>\n",
       "      <td>Zubaan</td>\n",
       "      <td>Mozez Singh</td>\n",
       "      <td>Vicky Kaushal, Sarah-Jane Dias, Raaghav Chanan...</td>\n",
       "      <td>India</td>\n",
       "      <td>March 2, 2019</td>\n",
       "      <td>2015</td>\n",
       "      <td>TV-14</td>\n",
       "      <td>111 min</td>\n",
       "      <td>Dramas, International Movies, Music &amp; Musicals</td>\n",
       "      <td>A scrappy but poor boy worms his way into a ty...</td>\n",
       "    </tr>\n",
       "  </tbody>\n",
       "</table>\n",
       "<p>8807 rows × 12 columns</p>\n",
       "</div>"
      ],
      "text/plain": [
       "     show_id     type                  title         director  \\\n",
       "0         s1    Movie   Dick Johnson Is Dead  Kirsten Johnson   \n",
       "1         s2  TV Show          Blood & Water              NaN   \n",
       "2         s3  TV Show              Ganglands  Julien Leclercq   \n",
       "3         s4  TV Show  Jailbirds New Orleans              NaN   \n",
       "4         s5  TV Show           Kota Factory              NaN   \n",
       "...      ...      ...                    ...              ...   \n",
       "8802   s8803    Movie                 Zodiac    David Fincher   \n",
       "8803   s8804  TV Show            Zombie Dumb              NaN   \n",
       "8804   s8805    Movie             Zombieland  Ruben Fleischer   \n",
       "8805   s8806    Movie                   Zoom     Peter Hewitt   \n",
       "8806   s8807    Movie                 Zubaan      Mozez Singh   \n",
       "\n",
       "                                                   cast        country  \\\n",
       "0                                                   NaN  United States   \n",
       "1     Ama Qamata, Khosi Ngema, Gail Mabalane, Thaban...   South Africa   \n",
       "2     Sami Bouajila, Tracy Gotoas, Samuel Jouy, Nabi...            NaN   \n",
       "3                                                   NaN            NaN   \n",
       "4     Mayur More, Jitendra Kumar, Ranjan Raj, Alam K...          India   \n",
       "...                                                 ...            ...   \n",
       "8802  Mark Ruffalo, Jake Gyllenhaal, Robert Downey J...  United States   \n",
       "8803                                                NaN            NaN   \n",
       "8804  Jesse Eisenberg, Woody Harrelson, Emma Stone, ...  United States   \n",
       "8805  Tim Allen, Courteney Cox, Chevy Chase, Kate Ma...  United States   \n",
       "8806  Vicky Kaushal, Sarah-Jane Dias, Raaghav Chanan...          India   \n",
       "\n",
       "              date_added  release_year rating   duration  \\\n",
       "0     September 25, 2021          2020  PG-13     90 min   \n",
       "1     September 24, 2021          2021  TV-MA  2 Seasons   \n",
       "2     September 24, 2021          2021  TV-MA   1 Season   \n",
       "3     September 24, 2021          2021  TV-MA   1 Season   \n",
       "4     September 24, 2021          2021  TV-MA  2 Seasons   \n",
       "...                  ...           ...    ...        ...   \n",
       "8802   November 20, 2019          2007      R    158 min   \n",
       "8803        July 1, 2019          2018  TV-Y7  2 Seasons   \n",
       "8804    November 1, 2019          2009      R     88 min   \n",
       "8805    January 11, 2020          2006     PG     88 min   \n",
       "8806       March 2, 2019          2015  TV-14    111 min   \n",
       "\n",
       "                                              listed_in  \\\n",
       "0                                         Documentaries   \n",
       "1       International TV Shows, TV Dramas, TV Mysteries   \n",
       "2     Crime TV Shows, International TV Shows, TV Act...   \n",
       "3                                Docuseries, Reality TV   \n",
       "4     International TV Shows, Romantic TV Shows, TV ...   \n",
       "...                                                 ...   \n",
       "8802                     Cult Movies, Dramas, Thrillers   \n",
       "8803             Kids' TV, Korean TV Shows, TV Comedies   \n",
       "8804                            Comedies, Horror Movies   \n",
       "8805                 Children & Family Movies, Comedies   \n",
       "8806     Dramas, International Movies, Music & Musicals   \n",
       "\n",
       "                                            description  \n",
       "0     As her father nears the end of his life, filmm...  \n",
       "1     After crossing paths at a party, a Cape Town t...  \n",
       "2     To protect his family from a powerful drug lor...  \n",
       "3     Feuds, flirtations and toilet talk go down amo...  \n",
       "4     In a city of coaching centers known to train I...  \n",
       "...                                                 ...  \n",
       "8802  A political cartoonist, a crime reporter and a...  \n",
       "8803  While living alone in a spooky town, a young g...  \n",
       "8804  Looking to survive in a world taken over by zo...  \n",
       "8805  Dragged from civilian life, a former superhero...  \n",
       "8806  A scrappy but poor boy worms his way into a ty...  \n",
       "\n",
       "[8807 rows x 12 columns]"
      ]
     },
     "execution_count": 3,
     "metadata": {},
     "output_type": "execute_result"
    }
   ],
   "source": [
    "df=pd.read_csv('netflix_titles_2021.csv')\n",
    "df"
   ]
  },
  {
   "cell_type": "code",
   "execution_count": 4,
   "metadata": {},
   "outputs": [
    {
     "name": "stdout",
     "output_type": "stream",
     "text": [
      "<class 'pandas.core.frame.DataFrame'>\n",
      "RangeIndex: 8807 entries, 0 to 8806\n",
      "Data columns (total 12 columns):\n",
      " #   Column        Non-Null Count  Dtype \n",
      "---  ------        --------------  ----- \n",
      " 0   show_id       8807 non-null   object\n",
      " 1   type          8807 non-null   object\n",
      " 2   title         8807 non-null   object\n",
      " 3   director      6173 non-null   object\n",
      " 4   cast          7982 non-null   object\n",
      " 5   country       7976 non-null   object\n",
      " 6   date_added    8797 non-null   object\n",
      " 7   release_year  8807 non-null   int64 \n",
      " 8   rating        8803 non-null   object\n",
      " 9   duration      8804 non-null   object\n",
      " 10  listed_in     8807 non-null   object\n",
      " 11  description   8807 non-null   object\n",
      "dtypes: int64(1), object(11)\n",
      "memory usage: 825.8+ KB\n"
     ]
    }
   ],
   "source": [
    "df.info()"
   ]
  },
  {
   "cell_type": "code",
   "execution_count": 5,
   "metadata": {},
   "outputs": [
    {
     "data": {
      "text/html": [
       "<div>\n",
       "<style scoped>\n",
       "    .dataframe tbody tr th:only-of-type {\n",
       "        vertical-align: middle;\n",
       "    }\n",
       "\n",
       "    .dataframe tbody tr th {\n",
       "        vertical-align: top;\n",
       "    }\n",
       "\n",
       "    .dataframe thead th {\n",
       "        text-align: right;\n",
       "    }\n",
       "</style>\n",
       "<table border=\"1\" class=\"dataframe\">\n",
       "  <thead>\n",
       "    <tr style=\"text-align: right;\">\n",
       "      <th></th>\n",
       "      <th>release_year</th>\n",
       "    </tr>\n",
       "  </thead>\n",
       "  <tbody>\n",
       "    <tr>\n",
       "      <th>count</th>\n",
       "      <td>8807.000000</td>\n",
       "    </tr>\n",
       "    <tr>\n",
       "      <th>mean</th>\n",
       "      <td>2014.180198</td>\n",
       "    </tr>\n",
       "    <tr>\n",
       "      <th>std</th>\n",
       "      <td>8.819312</td>\n",
       "    </tr>\n",
       "    <tr>\n",
       "      <th>min</th>\n",
       "      <td>1925.000000</td>\n",
       "    </tr>\n",
       "    <tr>\n",
       "      <th>25%</th>\n",
       "      <td>2013.000000</td>\n",
       "    </tr>\n",
       "    <tr>\n",
       "      <th>50%</th>\n",
       "      <td>2017.000000</td>\n",
       "    </tr>\n",
       "    <tr>\n",
       "      <th>75%</th>\n",
       "      <td>2019.000000</td>\n",
       "    </tr>\n",
       "    <tr>\n",
       "      <th>max</th>\n",
       "      <td>2021.000000</td>\n",
       "    </tr>\n",
       "  </tbody>\n",
       "</table>\n",
       "</div>"
      ],
      "text/plain": [
       "       release_year\n",
       "count   8807.000000\n",
       "mean    2014.180198\n",
       "std        8.819312\n",
       "min     1925.000000\n",
       "25%     2013.000000\n",
       "50%     2017.000000\n",
       "75%     2019.000000\n",
       "max     2021.000000"
      ]
     },
     "execution_count": 5,
     "metadata": {},
     "output_type": "execute_result"
    }
   ],
   "source": [
    "df.describe()"
   ]
  },
  {
   "cell_type": "code",
   "execution_count": 6,
   "metadata": {},
   "outputs": [
    {
     "data": {
      "text/plain": [
       "show_id            0\n",
       "type               0\n",
       "title              0\n",
       "director        2634\n",
       "cast             825\n",
       "country          831\n",
       "date_added        10\n",
       "release_year       0\n",
       "rating             4\n",
       "duration           3\n",
       "listed_in          0\n",
       "description        0\n",
       "dtype: int64"
      ]
     },
     "execution_count": 6,
     "metadata": {},
     "output_type": "execute_result"
    }
   ],
   "source": [
    "df.isnull().sum()"
   ]
  },
  {
   "cell_type": "markdown",
   "metadata": {},
   "source": [
    "- **The dataset has 4306 null values**"
   ]
  },
  {
   "cell_type": "markdown",
   "metadata": {},
   "source": [
    "# UNI-Variate Analysis"
   ]
  },
  {
   "cell_type": "markdown",
   "metadata": {},
   "source": [
    "### Type Column"
   ]
  },
  {
   "cell_type": "code",
   "execution_count": 7,
   "metadata": {},
   "outputs": [
    {
     "name": "stdout",
     "output_type": "stream",
     "text": [
      "         Frequency  Percentage\n",
      "type                          \n",
      "Movie         6131   69.615079\n",
      "TV Show       2676   30.384921\n"
     ]
    }
   ],
   "source": [
    "count=df['type'].value_counts()\n",
    "percent=df['type'].value_counts(normalize=True)*100\n",
    "Freq_table=pd.DataFrame({\"Frequency\": count, \"Percentage\":percent})\n",
    "print(Freq_table)"
   ]
  },
  {
   "cell_type": "code",
   "execution_count": 32,
   "metadata": {},
   "outputs": [
    {
     "data": {
      "text/plain": [
       "duration\n",
       "90 min     152\n",
       "97 min     146\n",
       "94 min     146\n",
       "93 min     146\n",
       "91 min     144\n",
       "          ... \n",
       "228 min      1\n",
       "18 min       1\n",
       "205 min      1\n",
       "201 min      1\n",
       "191 min      1\n",
       "Name: count, Length: 205, dtype: int64"
      ]
     },
     "execution_count": 32,
     "metadata": {},
     "output_type": "execute_result"
    }
   ],
   "source": [
    "movie['duration'].value_counts()"
   ]
  },
  {
   "cell_type": "markdown",
   "metadata": {},
   "source": [
    "- **The average duaration of a movie is 90 min**"
   ]
  },
  {
   "cell_type": "code",
   "execution_count": 30,
   "metadata": {},
   "outputs": [
    {
     "data": {
      "text/plain": [
       "duration\n",
       "1 Season      1793\n",
       "2 Seasons      425\n",
       "3 Seasons      199\n",
       "4 Seasons       95\n",
       "5 Seasons       65\n",
       "6 Seasons       33\n",
       "7 Seasons       23\n",
       "8 Seasons       17\n",
       "9 Seasons        9\n",
       "10 Seasons       7\n",
       "13 Seasons       3\n",
       "12 Seasons       2\n",
       "15 Seasons       2\n",
       "11 Seasons       2\n",
       "17 Seasons       1\n",
       "Name: count, dtype: int64"
      ]
     },
     "execution_count": 30,
     "metadata": {},
     "output_type": "execute_result"
    }
   ],
   "source": [
    "TVshow['duration'].value_counts()"
   ]
  },
  {
   "cell_type": "markdown",
   "metadata": {},
   "source": [
    "- **Most of the TV shows are only 1 season**"
   ]
  },
  {
   "cell_type": "code",
   "execution_count": 8,
   "metadata": {},
   "outputs": [
    {
     "data": {
      "text/plain": [
       "<Axes: xlabel='type'>"
      ]
     },
     "execution_count": 8,
     "metadata": {},
     "output_type": "execute_result"
    },
    {
     "data": {
      "image/png": "[encoded data removed]",
      "text/plain": [
       "<Figure size 640x480 with 1 Axes>"
      ]
     },
     "metadata": {},
     "output_type": "display_data"
    }
   ],
   "source": [
    "count.plot(kind='bar')"
   ]
  },
  {
   "cell_type": "markdown",
   "metadata": {},
   "source": [
    "- **More Movies than TV shows**"
   ]
  },
  {
   "cell_type": "markdown",
   "metadata": {},
   "source": [
    "### Country Column"
   ]
  },
  {
   "cell_type": "code",
   "execution_count": 9,
   "metadata": {},
   "outputs": [
    {
     "data": {
      "text/plain": [
       "country\n",
       "United States                                    35.330993\n",
       "India                                            12.186560\n",
       "United Kingdom                                    5.253260\n",
       "Japan                                             3.071715\n",
       "South Korea                                       2.494985\n",
       "                                                   ...    \n",
       "Russia, Spain                                     0.012538\n",
       "Croatia, Slovenia, Serbia, Montenegro             0.012538\n",
       "Japan, Canada                                     0.012538\n",
       "United States, France, South Korea, Indonesia     0.012538\n",
       "United Arab Emirates, Jordan                      0.012538\n",
       "Name: proportion, Length: 748, dtype: float64"
      ]
     },
     "execution_count": 9,
     "metadata": {},
     "output_type": "execute_result"
    }
   ],
   "source": [
    "df['country'].value_counts(normalize=True)*100 "
   ]
  },
  {
   "cell_type": "markdown",
   "metadata": {},
   "source": [
    "- **More than 35% is made by the United States**"
   ]
  },
  {
   "cell_type": "markdown",
   "metadata": {},
   "source": [
    "### Release Year Column"
   ]
  },
  {
   "cell_type": "code",
   "execution_count": 10,
   "metadata": {},
   "outputs": [
    {
     "data": {
      "text/plain": [
       "count    8807.000000\n",
       "mean     2014.180198\n",
       "std         8.819312\n",
       "min      1925.000000\n",
       "25%      2013.000000\n",
       "50%      2017.000000\n",
       "75%      2019.000000\n",
       "max      2021.000000\n",
       "Name: release_year, dtype: float64"
      ]
     },
     "execution_count": 10,
     "metadata": {},
     "output_type": "execute_result"
    }
   ],
   "source": [
    "df['release_year'].describe()"
   ]
  },
  {
   "cell_type": "code",
   "execution_count": 11,
   "metadata": {},
   "outputs": [
    {
     "name": "stdout",
     "output_type": "stream",
     "text": [
      "                                          title  release_year rating\n",
      "                                  Blood & Water          2021  TV-MA\n",
      "                                      Ganglands          2021  TV-MA\n",
      "                          Jailbirds New Orleans          2021  TV-MA\n",
      "                             Chicago Party Aunt          2021  TV-MA\n",
      "                                Ankahi Kahaniya          2021  TV-14\n",
      "                           Love on the Spectrum          2021  TV-14\n",
      "   Go! Go! Cory Carson: Chrissy Takes the Wheel          2021   TV-Y\n",
      "Monsters Inside: The 24 Faces of Billy Milligan          2021  TV-14\n",
      "                                         Jaguar          2021  TV-MA\n",
      "                                      Intrusion          2021  TV-14\n"
     ]
    }
   ],
   "source": [
    "sorted_df = df.sort_values(by='release_year', ascending=False)\n",
    "top_10 = sorted_df.head(10)\n",
    "print(top_10[['title', 'release_year','rating']].to_string(index=False))"
   ]
  },
  {
   "cell_type": "code",
   "execution_count": 12,
   "metadata": {},
   "outputs": [
    {
     "data": {
      "text/plain": [
       "<Axes: ylabel='Frequency'>"
      ]
     },
     "execution_count": 12,
     "metadata": {},
     "output_type": "execute_result"
    },
    {
     "data": {
      "image/png": "[encoded data removed]",
      "text/plain": [
       "<Figure size 640x480 with 1 Axes>"
      ]
     },
     "metadata": {},
     "output_type": "display_data"
    }
   ],
   "source": [
    "df['release_year'].plot(kind='hist')"
   ]
  },
  {
   "cell_type": "markdown",
   "metadata": {},
   "source": [
    "- **Most movies were released in between of 2015 and 2021**"
   ]
  },
  {
   "cell_type": "markdown",
   "metadata": {},
   "source": [
    "- **Most of the movies that was Released in 2021 its rating was TV-MA**"
   ]
  },
  {
   "cell_type": "markdown",
   "metadata": {},
   "source": [
    "### Rating"
   ]
  },
  {
   "cell_type": "code",
   "execution_count": 13,
   "metadata": {},
   "outputs": [
    {
     "name": "stdout",
     "output_type": "stream",
     "text": [
      "          Frequency  Percentage\n",
      "rating                         \n",
      "TV-MA          3207   36.430762\n",
      "TV-14          2160   24.537090\n",
      "TV-PG           863    9.803476\n",
      "R               799    9.076451\n",
      "PG-13           490    5.566284\n",
      "TV-Y7           334    3.794161\n",
      "TV-Y            307    3.487447\n",
      "PG              287    3.260252\n",
      "TV-G            220    2.499148\n",
      "NR               80    0.908781\n",
      "G                41    0.465750\n",
      "TV-Y7-FV          6    0.068159\n",
      "NC-17             3    0.034079\n",
      "UR                3    0.034079\n",
      "74 min            1    0.011360\n",
      "84 min            1    0.011360\n",
      "66 min            1    0.011360\n"
     ]
    }
   ],
   "source": [
    "count=df['rating'].value_counts()\n",
    "percent=df['rating'].value_counts(normalize=True)*100\n",
    "Freq_table=pd.DataFrame({\"Frequency\": count, \"Percentage\": percent})\n",
    "print(Freq_table)"
   ]
  },
  {
   "cell_type": "code",
   "execution_count": 14,
   "metadata": {},
   "outputs": [
    {
     "data": {
      "text/plain": [
       "<Axes: xlabel='rating'>"
      ]
     },
     "execution_count": 14,
     "metadata": {},
     "output_type": "execute_result"
    },
    {
     "data": {
      "image/png": "[encoded data removed]",
      "text/plain": [
       "<Figure size 640x480 with 1 Axes>"
      ]
     },
     "metadata": {},
     "output_type": "display_data"
    }
   ],
   "source": [
    "count.plot(kind='bar')\n"
   ]
  },
  {
   "cell_type": "markdown",
   "metadata": {},
   "source": [
    "- **Most Movies rating was TV-MA**"
   ]
  },
  {
   "cell_type": "markdown",
   "metadata": {},
   "source": [
    "### Duration Column"
   ]
  },
  {
   "cell_type": "code",
   "execution_count": 15,
   "metadata": {},
   "outputs": [
    {
     "name": "stdout",
     "output_type": "stream",
     "text": [
      "                                title duration                                          listed_in\n",
      "The Misadventures of Hedi and Cokeman   99 min                     Comedies, International Movies\n",
      "                             Being AP   99 min Documentaries, International Movies, Sports Movies\n",
      "                 The Whole Nine Yards   99 min                       Action & Adventure, Comedies\n",
      "                     American Hangman   99 min                                          Thrillers\n",
      "              Dead Again in Tombstone   99 min                  Action & Adventure, Horror Movies\n",
      "                           The Worthy   99 min  International Movies, Sci-Fi & Fantasy, Thrillers\n",
      "                              Monster   99 min                                             Dramas\n",
      "                               Curtiz   99 min                       Dramas, International Movies\n",
      "               Dance of the Forty One   99 min   Dramas, Independent Movies, International Movies\n",
      "                          May We Chat   99 min                       Dramas, International Movies\n"
     ]
    }
   ],
   "source": [
    "sorted_df = df.sort_values(by='duration', ascending=False)\n",
    "top_10 = sorted_df.head(10)\n",
    "print(top_10[['title', 'duration', 'listed_in']].to_string(index=False))"
   ]
  },
  {
   "cell_type": "markdown",
   "metadata": {},
   "source": [
    "### Listed in Column"
   ]
  },
  {
   "cell_type": "code",
   "execution_count": 16,
   "metadata": {},
   "outputs": [
    {
     "data": {
      "text/plain": [
       "listed_in\n",
       "Dramas, International Movies                        362\n",
       "Documentaries                                       359\n",
       "Stand-Up Comedy                                     334\n",
       "Comedies, Dramas, International Movies              274\n",
       "Dramas, Independent Movies, International Movies    252\n",
       "                                                   ... \n",
       "Action & Adventure, Cult Movies                       1\n",
       "Action & Adventure, Comedies, Music & Musicals        1\n",
       "Classic Movies, Horror Movies, Thrillers              1\n",
       "Children & Family Movies, Classic Movies, Dramas      1\n",
       "Cult Movies, Dramas, Thrillers                        1\n",
       "Name: count, Length: 514, dtype: int64"
      ]
     },
     "execution_count": 16,
     "metadata": {},
     "output_type": "execute_result"
    }
   ],
   "source": [
    "count=df['listed_in'].value_counts()\n",
    "count"
   ]
  },
  {
   "cell_type": "markdown",
   "metadata": {},
   "source": [
    "### Director Column"
   ]
  },
  {
   "cell_type": "code",
   "execution_count": 17,
   "metadata": {},
   "outputs": [
    {
     "data": {
      "text/plain": [
       "director\n",
       "Rajiv Chilaka             19\n",
       "Raúl Campos, Jan Suter    18\n",
       "Suhas Kadav               16\n",
       "Marcus Raboy              15\n",
       "Jay Karas                 14\n",
       "Cathy Garcia-Molina       13\n",
       "Martin Scorsese           12\n",
       "Jay Chapman               12\n",
       "Youssef Chahine           12\n",
       "Steven Spielberg          11\n",
       "Name: count, dtype: int64"
      ]
     },
     "execution_count": 17,
     "metadata": {},
     "output_type": "execute_result"
    }
   ],
   "source": [
    "movie=df[df['type'] == 'Movie']\n",
    "TVshow=df[df['type'] == 'TV Show']\n",
    "director_movie=movie['director'].value_counts().head(10)\n",
    "director_movie"
   ]
  },
  {
   "cell_type": "markdown",
   "metadata": {},
   "source": [
    "- **Director Rajiv Chilaka has the most movies**"
   ]
  },
  {
   "cell_type": "code",
   "execution_count": 28,
   "metadata": {},
   "outputs": [
    {
     "data": {
      "text/plain": [
       "director\n",
       "Alastair Fothergill                    3\n",
       "Rob Seidenglanz                        2\n",
       "Ken Burns                              2\n",
       "Stan Lathan                            2\n",
       "Shin Won-ho                            2\n",
       "Hsu Fu-chun                            2\n",
       "Iginio Straffi                         2\n",
       "Jason Hehir                            1\n",
       "Gerhard Mostert                        1\n",
       "Luis Alfaro, Javier Gómez Santander    1\n",
       "Name: count, dtype: int64"
      ]
     },
     "execution_count": 28,
     "metadata": {},
     "output_type": "execute_result"
    }
   ],
   "source": [
    "director_TV=TVshow['director'].value_counts().head(10)\n",
    "director_TV"
   ]
  },
  {
   "cell_type": "markdown",
   "metadata": {},
   "source": [
    "- **Director Alastair Fothergill has the most tv shows**"
   ]
  },
  {
   "cell_type": "markdown",
   "metadata": {},
   "source": [
    "# BI-Variate Analysis\n"
   ]
  },
  {
   "cell_type": "code",
   "execution_count": 18,
   "metadata": {},
   "outputs": [
    {
     "data": {
      "text/plain": [
       "type\n",
       "Movie      5943\n",
       "TV Show     230\n",
       "Name: director, dtype: int64"
      ]
     },
     "execution_count": 18,
     "metadata": {},
     "output_type": "execute_result"
    }
   ],
   "source": [
    "df.groupby('type')['director'].count()\n"
   ]
  },
  {
   "cell_type": "markdown",
   "metadata": {},
   "source": [
    "- **Directors tends to make more movies than TV Shows**"
   ]
  },
  {
   "cell_type": "code",
   "execution_count": 19,
   "metadata": {},
   "outputs": [
    {
     "data": {
      "text/plain": [
       "['Rajiv Chilaka',\n",
       " 'Raúl Campos, Jan Suter',\n",
       " 'Suhas Kadav',\n",
       " 'Marcus Raboy',\n",
       " 'Jay Karas',\n",
       " 'Cathy Garcia-Molina',\n",
       " 'Martin Scorsese',\n",
       " 'Youssef Chahine',\n",
       " 'Jay Chapman',\n",
       " 'Steven Spielberg']"
      ]
     },
     "execution_count": 19,
     "metadata": {},
     "output_type": "execute_result"
    }
   ],
   "source": [
    "list(df['director'].value_counts().head(10).index)\n"
   ]
  },
  {
   "cell_type": "code",
   "execution_count": 20,
   "metadata": {},
   "outputs": [
    {
     "data": {
      "text/html": [
       "<div>\n",
       "<style scoped>\n",
       "    .dataframe tbody tr th:only-of-type {\n",
       "        vertical-align: middle;\n",
       "    }\n",
       "\n",
       "    .dataframe tbody tr th {\n",
       "        vertical-align: top;\n",
       "    }\n",
       "\n",
       "    .dataframe thead th {\n",
       "        text-align: right;\n",
       "    }\n",
       "</style>\n",
       "<table border=\"1\" class=\"dataframe\">\n",
       "  <thead>\n",
       "    <tr style=\"text-align: right;\">\n",
       "      <th></th>\n",
       "      <th>show_id</th>\n",
       "      <th>type</th>\n",
       "      <th>title</th>\n",
       "      <th>director</th>\n",
       "      <th>cast</th>\n",
       "      <th>country</th>\n",
       "      <th>date_added</th>\n",
       "      <th>release_year</th>\n",
       "      <th>rating</th>\n",
       "      <th>duration</th>\n",
       "      <th>listed_in</th>\n",
       "      <th>description</th>\n",
       "    </tr>\n",
       "  </thead>\n",
       "  <tbody>\n",
       "    <tr>\n",
       "      <th>41</th>\n",
       "      <td>s42</td>\n",
       "      <td>Movie</td>\n",
       "      <td>Jaws</td>\n",
       "      <td>Steven Spielberg</td>\n",
       "      <td>Roy Scheider, Robert Shaw, Richard Dreyfuss, L...</td>\n",
       "      <td>United States</td>\n",
       "      <td>September 16, 2021</td>\n",
       "      <td>1975</td>\n",
       "      <td>PG</td>\n",
       "      <td>124 min</td>\n",
       "      <td>Action &amp; Adventure, Classic Movies, Dramas</td>\n",
       "      <td>When an insatiable great white shark terrorize...</td>\n",
       "    </tr>\n",
       "    <tr>\n",
       "      <th>329</th>\n",
       "      <td>s330</td>\n",
       "      <td>Movie</td>\n",
       "      <td>Catch Me If You Can</td>\n",
       "      <td>Steven Spielberg</td>\n",
       "      <td>Leonardo DiCaprio, Tom Hanks, Christopher Walk...</td>\n",
       "      <td>United States, Canada</td>\n",
       "      <td>August 1, 2021</td>\n",
       "      <td>2002</td>\n",
       "      <td>PG-13</td>\n",
       "      <td>142 min</td>\n",
       "      <td>Dramas</td>\n",
       "      <td>An FBI agent makes it his mission to put cunni...</td>\n",
       "    </tr>\n",
       "    <tr>\n",
       "      <th>406</th>\n",
       "      <td>s407</td>\n",
       "      <td>Movie</td>\n",
       "      <td>Chhota Bheem - Neeli Pahaadi</td>\n",
       "      <td>Rajiv Chilaka</td>\n",
       "      <td>Vatsal Dubey, Julie Tejwani, Rupa Bhimani, Jig...</td>\n",
       "      <td>NaN</td>\n",
       "      <td>July 22, 2021</td>\n",
       "      <td>2013</td>\n",
       "      <td>TV-Y7</td>\n",
       "      <td>64 min</td>\n",
       "      <td>Children &amp; Family Movies</td>\n",
       "      <td>Things get spooky when Bheem and his buddies t...</td>\n",
       "    </tr>\n",
       "    <tr>\n",
       "      <th>407</th>\n",
       "      <td>s408</td>\n",
       "      <td>Movie</td>\n",
       "      <td>Chhota Bheem &amp; Ganesh</td>\n",
       "      <td>Rajiv Chilaka</td>\n",
       "      <td>Vatsal Dubey, Julie Tejwani, Rupa Bhimani, Jig...</td>\n",
       "      <td>NaN</td>\n",
       "      <td>July 22, 2021</td>\n",
       "      <td>2009</td>\n",
       "      <td>TV-Y7</td>\n",
       "      <td>68 min</td>\n",
       "      <td>Children &amp; Family Movies</td>\n",
       "      <td>Bheem and Lord Ganesha join forces to save Dho...</td>\n",
       "    </tr>\n",
       "    <tr>\n",
       "      <th>408</th>\n",
       "      <td>s409</td>\n",
       "      <td>Movie</td>\n",
       "      <td>Chhota Bheem &amp; Krishna: Mayanagari</td>\n",
       "      <td>Rajiv Chilaka</td>\n",
       "      <td>Vatsal Dubey, Julie Tejwani, Rupa Bhimani, Jig...</td>\n",
       "      <td>NaN</td>\n",
       "      <td>July 22, 2021</td>\n",
       "      <td>2011</td>\n",
       "      <td>TV-Y7</td>\n",
       "      <td>67 min</td>\n",
       "      <td>Children &amp; Family Movies</td>\n",
       "      <td>Young lord Krishna has fallen for demoness Maa...</td>\n",
       "    </tr>\n",
       "    <tr>\n",
       "      <th>...</th>\n",
       "      <td>...</td>\n",
       "      <td>...</td>\n",
       "      <td>...</td>\n",
       "      <td>...</td>\n",
       "      <td>...</td>\n",
       "      <td>...</td>\n",
       "      <td>...</td>\n",
       "      <td>...</td>\n",
       "      <td>...</td>\n",
       "      <td>...</td>\n",
       "      <td>...</td>\n",
       "      <td>...</td>\n",
       "    </tr>\n",
       "    <tr>\n",
       "      <th>8184</th>\n",
       "      <td>s8185</td>\n",
       "      <td>Movie</td>\n",
       "      <td>The Adventures of Tintin</td>\n",
       "      <td>Steven Spielberg</td>\n",
       "      <td>Jamie Bell, Andy Serkis, Daniel Craig, Nick Fr...</td>\n",
       "      <td>United States, New Zealand, United Kingdom</td>\n",
       "      <td>November 20, 2019</td>\n",
       "      <td>2011</td>\n",
       "      <td>PG</td>\n",
       "      <td>107 min</td>\n",
       "      <td>Children &amp; Family Movies</td>\n",
       "      <td>This 3-D motion capture adapts Georges Remi's ...</td>\n",
       "    </tr>\n",
       "    <tr>\n",
       "      <th>8272</th>\n",
       "      <td>s8273</td>\n",
       "      <td>Movie</td>\n",
       "      <td>The Departed</td>\n",
       "      <td>Martin Scorsese</td>\n",
       "      <td>Leonardo DiCaprio, Matt Damon, Jack Nicholson,...</td>\n",
       "      <td>United States, Hong Kong</td>\n",
       "      <td>January 1, 2021</td>\n",
       "      <td>2006</td>\n",
       "      <td>R</td>\n",
       "      <td>151 min</td>\n",
       "      <td>Dramas, Thrillers</td>\n",
       "      <td>Two rookie Boston cops are sent deep undercove...</td>\n",
       "    </tr>\n",
       "    <tr>\n",
       "      <th>8696</th>\n",
       "      <td>s8697</td>\n",
       "      <td>Movie</td>\n",
       "      <td>War Horse</td>\n",
       "      <td>Steven Spielberg</td>\n",
       "      <td>Emily Watson, David Thewlis, Peter Mullan, Nie...</td>\n",
       "      <td>United States, India</td>\n",
       "      <td>May 6, 2019</td>\n",
       "      <td>2011</td>\n",
       "      <td>PG-13</td>\n",
       "      <td>147 min</td>\n",
       "      <td>Dramas</td>\n",
       "      <td>During World War I, the bond between a young E...</td>\n",
       "    </tr>\n",
       "    <tr>\n",
       "      <th>8735</th>\n",
       "      <td>s8736</td>\n",
       "      <td>Movie</td>\n",
       "      <td>Who's That Knocking at My Door?</td>\n",
       "      <td>Martin Scorsese</td>\n",
       "      <td>Zina Bethune, Harvey Keitel, Anne Collette, Le...</td>\n",
       "      <td>United States</td>\n",
       "      <td>July 1, 2019</td>\n",
       "      <td>1967</td>\n",
       "      <td>R</td>\n",
       "      <td>90 min</td>\n",
       "      <td>Classic Movies, Dramas, Independent Movies</td>\n",
       "      <td>A woman's revelation that she was once raped s...</td>\n",
       "    </tr>\n",
       "    <tr>\n",
       "      <th>8789</th>\n",
       "      <td>s8790</td>\n",
       "      <td>Movie</td>\n",
       "      <td>You Changed My Life</td>\n",
       "      <td>Cathy Garcia-Molina</td>\n",
       "      <td>John Lloyd Cruz, Sarah Geronimo, Rayver Cruz, ...</td>\n",
       "      <td>Philippines</td>\n",
       "      <td>February 27, 2019</td>\n",
       "      <td>2009</td>\n",
       "      <td>TV-PG</td>\n",
       "      <td>116 min</td>\n",
       "      <td>Comedies, Dramas, International Movies</td>\n",
       "      <td>Laida and Miggy think they've found perfect ha...</td>\n",
       "    </tr>\n",
       "  </tbody>\n",
       "</table>\n",
       "<p>143 rows × 12 columns</p>\n",
       "</div>"
      ],
      "text/plain": [
       "     show_id   type                               title             director  \\\n",
       "41       s42  Movie                                Jaws     Steven Spielberg   \n",
       "329     s330  Movie                 Catch Me If You Can     Steven Spielberg   \n",
       "406     s407  Movie        Chhota Bheem - Neeli Pahaadi        Rajiv Chilaka   \n",
       "407     s408  Movie               Chhota Bheem & Ganesh        Rajiv Chilaka   \n",
       "408     s409  Movie  Chhota Bheem & Krishna: Mayanagari        Rajiv Chilaka   \n",
       "...      ...    ...                                 ...                  ...   \n",
       "8184   s8185  Movie            The Adventures of Tintin     Steven Spielberg   \n",
       "8272   s8273  Movie                        The Departed      Martin Scorsese   \n",
       "8696   s8697  Movie                           War Horse     Steven Spielberg   \n",
       "8735   s8736  Movie     Who's That Knocking at My Door?      Martin Scorsese   \n",
       "8789   s8790  Movie                 You Changed My Life  Cathy Garcia-Molina   \n",
       "\n",
       "                                                   cast  \\\n",
       "41    Roy Scheider, Robert Shaw, Richard Dreyfuss, L...   \n",
       "329   Leonardo DiCaprio, Tom Hanks, Christopher Walk...   \n",
       "406   Vatsal Dubey, Julie Tejwani, Rupa Bhimani, Jig...   \n",
       "407   Vatsal Dubey, Julie Tejwani, Rupa Bhimani, Jig...   \n",
       "408   Vatsal Dubey, Julie Tejwani, Rupa Bhimani, Jig...   \n",
       "...                                                 ...   \n",
       "8184  Jamie Bell, Andy Serkis, Daniel Craig, Nick Fr...   \n",
       "8272  Leonardo DiCaprio, Matt Damon, Jack Nicholson,...   \n",
       "8696  Emily Watson, David Thewlis, Peter Mullan, Nie...   \n",
       "8735  Zina Bethune, Harvey Keitel, Anne Collette, Le...   \n",
       "8789  John Lloyd Cruz, Sarah Geronimo, Rayver Cruz, ...   \n",
       "\n",
       "                                         country          date_added  \\\n",
       "41                                 United States  September 16, 2021   \n",
       "329                        United States, Canada      August 1, 2021   \n",
       "406                                          NaN       July 22, 2021   \n",
       "407                                          NaN       July 22, 2021   \n",
       "408                                          NaN       July 22, 2021   \n",
       "...                                          ...                 ...   \n",
       "8184  United States, New Zealand, United Kingdom   November 20, 2019   \n",
       "8272                    United States, Hong Kong     January 1, 2021   \n",
       "8696                        United States, India         May 6, 2019   \n",
       "8735                               United States        July 1, 2019   \n",
       "8789                                 Philippines   February 27, 2019   \n",
       "\n",
       "      release_year rating duration  \\\n",
       "41            1975     PG  124 min   \n",
       "329           2002  PG-13  142 min   \n",
       "406           2013  TV-Y7   64 min   \n",
       "407           2009  TV-Y7   68 min   \n",
       "408           2011  TV-Y7   67 min   \n",
       "...            ...    ...      ...   \n",
       "8184          2011     PG  107 min   \n",
       "8272          2006      R  151 min   \n",
       "8696          2011  PG-13  147 min   \n",
       "8735          1967      R   90 min   \n",
       "8789          2009  TV-PG  116 min   \n",
       "\n",
       "                                       listed_in  \\\n",
       "41    Action & Adventure, Classic Movies, Dramas   \n",
       "329                                       Dramas   \n",
       "406                     Children & Family Movies   \n",
       "407                     Children & Family Movies   \n",
       "408                     Children & Family Movies   \n",
       "...                                          ...   \n",
       "8184                    Children & Family Movies   \n",
       "8272                           Dramas, Thrillers   \n",
       "8696                                      Dramas   \n",
       "8735  Classic Movies, Dramas, Independent Movies   \n",
       "8789      Comedies, Dramas, International Movies   \n",
       "\n",
       "                                            description  \n",
       "41    When an insatiable great white shark terrorize...  \n",
       "329   An FBI agent makes it his mission to put cunni...  \n",
       "406   Things get spooky when Bheem and his buddies t...  \n",
       "407   Bheem and Lord Ganesha join forces to save Dho...  \n",
       "408   Young lord Krishna has fallen for demoness Maa...  \n",
       "...                                                 ...  \n",
       "8184  This 3-D motion capture adapts Georges Remi's ...  \n",
       "8272  Two rookie Boston cops are sent deep undercove...  \n",
       "8696  During World War I, the bond between a young E...  \n",
       "8735  A woman's revelation that she was once raped s...  \n",
       "8789  Laida and Miggy think they've found perfect ha...  \n",
       "\n",
       "[143 rows x 12 columns]"
      ]
     },
     "execution_count": 20,
     "metadata": {},
     "output_type": "execute_result"
    }
   ],
   "source": [
    "top_director = list(df['director'].value_counts().head(10).index)\n",
    "top_director_df=df[df['director'].isin(top_director )]\n",
    "top_director_df"
   ]
  },
  {
   "cell_type": "code",
   "execution_count": 21,
   "metadata": {},
   "outputs": [
    {
     "data": {
      "text/plain": [
       "director                listed_in                                                     \n",
       "Cathy Garcia-Molina     Comedies, Dramas, International Movies                             5\n",
       "                        Dramas, International Movies, Romantic Movies                      4\n",
       "                        Comedies, International Movies, Romantic Movies                    2\n",
       "                        International Movies, Romantic Movies                              2\n",
       "Jay Chapman             Stand-Up Comedy                                                   11\n",
       "                        Music & Musicals, Stand-Up Comedy                                  1\n",
       "Jay Karas               Stand-Up Comedy                                                   13\n",
       "                        Children & Family Movies, Comedies, Sports Movies                  1\n",
       "Marcus Raboy            Stand-Up Comedy                                                   15\n",
       "                        Stand-Up Comedy & Talk Shows, TV Comedies                          1\n",
       "Martin Scorsese         Classic Movies, Dramas, Independent Movies                         2\n",
       "                        Documentaries, Music & Musicals                                    2\n",
       "                        Dramas                                                             2\n",
       "                        Children & Family Movies, Dramas                                   1\n",
       "                        Classic Movies, Comedies, Dramas                                   1\n",
       "                        Classic Movies, Dramas                                             1\n",
       "                        Classic Movies, Dramas, Sports Movies                              1\n",
       "                        Dramas, Thrillers                                                  1\n",
       "                        Thrillers                                                          1\n",
       "Rajiv Chilaka           Children & Family Movies                                          18\n",
       "                        Children & Family Movies, Sports Movies                            1\n",
       "Raúl Campos, Jan Suter  Stand-Up Comedy                                                   18\n",
       "Steven Spielberg        Action & Adventure, Children & Family Movies, Classic Movies       3\n",
       "                        Dramas                                                             3\n",
       "                        Action & Adventure, Children & Family Movies, Sci-Fi & Fantasy     1\n",
       "                        Action & Adventure, Classic Movies, Dramas                         1\n",
       "                        Children & Family Movies                                           1\n",
       "                        Children & Family Movies, Dramas                                   1\n",
       "                        Classic Movies, Dramas                                             1\n",
       "Suhas Kadav             Children & Family Movies, Comedies                                 6\n",
       "                        Children & Family Movies                                           5\n",
       "                        Children & Family Movies, Music & Musicals                         3\n",
       "                        Children & Family Movies, Comedies, Music & Musicals               2\n",
       "Youssef Chahine         Classic Movies, Dramas, International Movies                       6\n",
       "                        Dramas, International Movies                                       3\n",
       "                        Action & Adventure, Classic Movies, Dramas                         1\n",
       "                        Classic Movies, Dramas, Independent Movies                         1\n",
       "                        Dramas, International Movies, Romantic Movies                      1\n",
       "Name: count, dtype: int64"
      ]
     },
     "execution_count": 21,
     "metadata": {},
     "output_type": "execute_result"
    }
   ],
   "source": [
    "top_director_df.groupby('director')['listed_in'].value_counts()"
   ]
  },
  {
   "cell_type": "code",
   "execution_count": 22,
   "metadata": {},
   "outputs": [
    {
     "data": {
      "text/plain": [
       "director                type     rating  \n",
       "Cathy Garcia-Molina     Movie    TV-14        7\n",
       "                                 TV-G         2\n",
       "                                 TV-MA        2\n",
       "                                 TV-PG        2\n",
       "Jay Chapman             Movie    TV-MA       10\n",
       "                                 NR           1\n",
       "                                 TV-14        1\n",
       "Jay Karas               Movie    TV-MA       10\n",
       "                                 TV-14        3\n",
       "                                 TV-G         1\n",
       "Marcus Raboy            Movie    TV-MA       12\n",
       "                                 TV-14        3\n",
       "                        TV Show  TV-MA        1\n",
       "Martin Scorsese         Movie    R            8\n",
       "                                 PG           2\n",
       "                                 TV-MA        2\n",
       "Rajiv Chilaka           Movie    TV-Y7       17\n",
       "                                 TV-Y         2\n",
       "Raúl Campos, Jan Suter  Movie    TV-MA       17\n",
       "                                 TV-14        1\n",
       "Steven Spielberg        Movie    PG           5\n",
       "                                 PG-13        5\n",
       "                                 R            1\n",
       "Suhas Kadav             Movie    TV-Y7       12\n",
       "                                 TV-Y         3\n",
       "                                 TV-Y7-FV     1\n",
       "Youssef Chahine         Movie    TV-MA        7\n",
       "                                 TV-14        5\n",
       "Name: count, dtype: int64"
      ]
     },
     "execution_count": 22,
     "metadata": {},
     "output_type": "execute_result"
    }
   ],
   "source": [
    "top_director_df.groupby(['director','type'])['rating'].value_counts()"
   ]
  },
  {
   "cell_type": "markdown",
   "metadata": {},
   "source": [
    "- **Most Directors movies are rated TV-MA**"
   ]
  },
  {
   "cell_type": "code",
   "execution_count": 23,
   "metadata": {},
   "outputs": [
    {
     "data": {
      "text/plain": [
       "type   rating\n",
       "Movie  TV-MA     2062\n",
       "       TV-14     1427\n",
       "       R          797\n",
       "       TV-PG      540\n",
       "       PG-13      490\n",
       "       PG         287\n",
       "       TV-Y7      139\n",
       "       TV-Y       131\n",
       "       TV-G       126\n",
       "       NR          75\n",
       "Name: count, dtype: int64"
      ]
     },
     "execution_count": 23,
     "metadata": {},
     "output_type": "execute_result"
    }
   ],
   "source": [
    "df.groupby(['type'])['rating'].value_counts().head(10)"
   ]
  },
  {
   "cell_type": "markdown",
   "metadata": {},
   "source": [
    "- **TV-MA is the most Movie and TV Show made**"
   ]
  },
  {
   "cell_type": "code",
   "execution_count": 24,
   "metadata": {},
   "outputs": [
    {
     "data": {
      "text/plain": [
       "listed_in           director          \n",
       "Action & Adventure  Mike Gunther          4\n",
       "                    Don Michael Paul      3\n",
       "                    Jesse V. Johnson      3\n",
       "                    Quentin Tarantino     3\n",
       "                    Steven C. Miller      3\n",
       "                    Andrzej Bartkowiak    2\n",
       "                    Dimitri Logothetis    2\n",
       "                    Ernie Barbarash       2\n",
       "                    John Stockwell        2\n",
       "                    Keoni Waxman          2\n",
       "Name: count, dtype: int64"
      ]
     },
     "execution_count": 24,
     "metadata": {},
     "output_type": "execute_result"
    }
   ],
   "source": [
    "df.groupby('listed_in')['director'].value_counts().head(10)"
   ]
  },
  {
   "cell_type": "code",
   "execution_count": 25,
   "metadata": {},
   "outputs": [
    {
     "data": {
      "text/plain": [
       "release_year  rating\n",
       "1925          TV-14     1\n",
       "1942          TV-14     2\n",
       "1943          TV-PG     3\n",
       "1944          TV-14     2\n",
       "              TV-PG     1\n",
       "1945          TV-14     2\n",
       "              TV-MA     2\n",
       "1946          TV-14     1\n",
       "              TV-PG     1\n",
       "1947          TV-PG     1\n",
       "Name: count, dtype: int64"
      ]
     },
     "execution_count": 25,
     "metadata": {},
     "output_type": "execute_result"
    }
   ],
   "source": [
    "df.groupby('release_year')['rating'].value_counts().head(10)"
   ]
  },
  {
   "cell_type": "code",
   "execution_count": 26,
   "metadata": {},
   "outputs": [
    {
     "data": {
      "text/plain": [
       "type\n",
       "Movie      1942\n",
       "TV Show    1925\n",
       "Name: release_year, dtype: int64"
      ]
     },
     "execution_count": 26,
     "metadata": {},
     "output_type": "execute_result"
    }
   ],
   "source": [
    "df.groupby('type')['release_year'].min()"
   ]
  },
  {
   "cell_type": "markdown",
   "metadata": {},
   "source": [
    "- **Netflix started publishing older TV shows than Movies**"
   ]
  },
  {
   "cell_type": "code",
   "execution_count": 27,
   "metadata": {},
   "outputs": [
    {
     "data": {
      "text/plain": [
       "type     director                            \n",
       "Movie    A. L. Vijay                             2019\n",
       "         A. Raajdheep                            2020\n",
       "         A. Salaam                               1975\n",
       "         A.R. Murugadoss                         2018\n",
       "         Aadish Keluskar                         2018\n",
       "                                                 ... \n",
       "TV Show  Vijay S. Bhanushali                     2019\n",
       "         Vikramaditya Motwane, Anurag Kashyap    2019\n",
       "         Wouter Bouvijn                          2019\n",
       "         Yasuhiro Irie                           2010\n",
       "         Ziad Doueiri                            2020\n",
       "Name: release_year, Length: 4576, dtype: int64"
      ]
     },
     "execution_count": 27,
     "metadata": {},
     "output_type": "execute_result"
    }
   ],
   "source": [
    "df.groupby(['type','director'])['release_year'].max()"
   ]
  }
 ],
 "metadata": {
  "kernelspec": {
   "display_name": "Python 3",
   "language": "python",
   "name": "python3"
  },
  "language_info": {
   "codemirror_mode": {
    "name": "ipython",
    "version": 3
   },
   "file_extension": ".py",
   "mimetype": "text/x-python",
   "name": "python",
   "nbconvert_exporter": "python",
   "pygments_lexer": "ipython3",
   "version": "3.12.4"
  }
 },
 "nbformat": 4,
 "nbformat_minor": 2
}
